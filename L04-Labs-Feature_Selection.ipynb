{
 "cells": [
  {
   "cell_type": "markdown",
   "metadata": {},
   "source": [
    "<div id=\"reminder\" style=\"border-radius: 5px; background-color:#f5f5f5; padding: 15px 5px; \" >\n",
    "<p>Use this notebook to follow along with the lab tutorial.</p>\n",
    "</div>"
   ]
  },
  {
   "cell_type": "markdown",
   "metadata": {},
   "source": [
    "# <font color=\"blue\">Lesson 4 Feature Engineering and Selection</font>"
   ]
  },
  {
   "cell_type": "markdown",
   "metadata": {},
   "source": [
    "## Section 1 Handling Categorical Variables"
   ]
  },
  {
   "cell_type": "markdown",
   "metadata": {},
   "source": [
    "### Read Data from CSV File"
   ]
  },
  {
   "cell_type": "code",
   "execution_count": 1,
   "metadata": {},
   "outputs": [
    {
     "data": {
      "text/html": [
       "<div>\n",
       "<style scoped>\n",
       "    .dataframe tbody tr th:only-of-type {\n",
       "        vertical-align: middle;\n",
       "    }\n",
       "\n",
       "    .dataframe tbody tr th {\n",
       "        vertical-align: top;\n",
       "    }\n",
       "\n",
       "    .dataframe thead th {\n",
       "        text-align: right;\n",
       "    }\n",
       "</style>\n",
       "<table border=\"1\" class=\"dataframe\">\n",
       "  <thead>\n",
       "    <tr style=\"text-align: right;\">\n",
       "      <th></th>\n",
       "      <th>outlook</th>\n",
       "      <th>temp</th>\n",
       "      <th>humidity</th>\n",
       "      <th>windy</th>\n",
       "      <th>play</th>\n",
       "    </tr>\n",
       "  </thead>\n",
       "  <tbody>\n",
       "    <tr>\n",
       "      <th>0</th>\n",
       "      <td>sunny</td>\n",
       "      <td>hot</td>\n",
       "      <td>high</td>\n",
       "      <td>strong</td>\n",
       "      <td>no</td>\n",
       "    </tr>\n",
       "    <tr>\n",
       "      <th>1</th>\n",
       "      <td>sunny</td>\n",
       "      <td>hot</td>\n",
       "      <td>high</td>\n",
       "      <td>weak</td>\n",
       "      <td>no</td>\n",
       "    </tr>\n",
       "    <tr>\n",
       "      <th>2</th>\n",
       "      <td>overcast</td>\n",
       "      <td>hot</td>\n",
       "      <td>high</td>\n",
       "      <td>weak</td>\n",
       "      <td>yes</td>\n",
       "    </tr>\n",
       "    <tr>\n",
       "      <th>3</th>\n",
       "      <td>rain</td>\n",
       "      <td>mild</td>\n",
       "      <td>high</td>\n",
       "      <td>weak</td>\n",
       "      <td>yes</td>\n",
       "    </tr>\n",
       "    <tr>\n",
       "      <th>4</th>\n",
       "      <td>rain</td>\n",
       "      <td>cool</td>\n",
       "      <td>normal</td>\n",
       "      <td>weak</td>\n",
       "      <td>yes</td>\n",
       "    </tr>\n",
       "  </tbody>\n",
       "</table>\n",
       "</div>"
      ],
      "text/plain": [
       "    outlook  temp humidity   windy play\n",
       "0     sunny   hot     high  strong   no\n",
       "1     sunny   hot     high    weak   no\n",
       "2  overcast   hot     high    weak  yes\n",
       "3      rain  mild     high    weak  yes\n",
       "4      rain  cool   normal    weak  yes"
      ]
     },
     "execution_count": 1,
     "metadata": {},
     "output_type": "execute_result"
    }
   ],
   "source": [
    "import pandas as pd\n",
    "file = \"https://library.startlearninglabs.uw.edu/DATASCI420/Datasets/Tennis.csv\"\n",
    "data = pd.read_csv(file, header=0)\n",
    "data.head()"
   ]
  },
  {
   "cell_type": "markdown",
   "metadata": {},
   "source": [
    "### One Hot Encoding"
   ]
  },
  {
   "cell_type": "code",
   "execution_count": 2,
   "metadata": {},
   "outputs": [
    {
     "data": {
      "text/plain": [
       "array([[1, 0, 0, 1, 0, 0, 1, 0, 1, 0],\n",
       "       [1, 0, 0, 1, 0, 0, 1, 0, 0, 1],\n",
       "       [0, 1, 0, 1, 0, 0, 1, 0, 0, 1],\n",
       "       [0, 0, 1, 0, 1, 0, 1, 0, 0, 1],\n",
       "       [0, 0, 1, 0, 0, 1, 0, 1, 0, 1]], dtype=int64)"
      ]
     },
     "execution_count": 2,
     "metadata": {},
     "output_type": "execute_result"
    }
   ],
   "source": [
    "import category_encoders as ce\n",
    "X = data[[\"outlook\",\"temp\",\"humidity\",\"windy\"]]\n",
    "le =  ce.OneHotEncoder(return_df=False,handle_unknown=\"ignore\")\n",
    "X_encoded = le.fit_transform(X)\n",
    "X_encoded[0:5,:]"
   ]
  },
  {
   "cell_type": "code",
   "execution_count": 3,
   "metadata": {},
   "outputs": [
    {
     "data": {
      "text/plain": [
       "[{'col': 'outlook',\n",
       "  'mapping': sunny       1\n",
       "  overcast    2\n",
       "  rain        3\n",
       "  NaN        -2\n",
       "  dtype: int64,\n",
       "  'data_type': dtype('O')},\n",
       " {'col': 'temp',\n",
       "  'mapping': hot     1\n",
       "  mild    2\n",
       "  cool    3\n",
       "  NaN    -2\n",
       "  dtype: int64,\n",
       "  'data_type': dtype('O')},\n",
       " {'col': 'humidity',\n",
       "  'mapping': high      1\n",
       "  normal    2\n",
       "  NaN      -2\n",
       "  dtype: int64,\n",
       "  'data_type': dtype('O')},\n",
       " {'col': 'windy',\n",
       "  'mapping': strong    1\n",
       "  weak      2\n",
       "  NaN      -2\n",
       "  dtype: int64,\n",
       "  'data_type': dtype('O')}]"
      ]
     },
     "execution_count": 3,
     "metadata": {},
     "output_type": "execute_result"
    }
   ],
   "source": [
    "# print out the category mapping\n",
    "le.category_mapping"
   ]
  },
  {
   "cell_type": "markdown",
   "metadata": {},
   "source": [
    "### One-hot Encoding by Pandas"
   ]
  },
  {
   "cell_type": "code",
   "execution_count": 4,
   "metadata": {},
   "outputs": [
    {
     "data": {
      "text/html": [
       "<div>\n",
       "<style scoped>\n",
       "    .dataframe tbody tr th:only-of-type {\n",
       "        vertical-align: middle;\n",
       "    }\n",
       "\n",
       "    .dataframe tbody tr th {\n",
       "        vertical-align: top;\n",
       "    }\n",
       "\n",
       "    .dataframe thead th {\n",
       "        text-align: right;\n",
       "    }\n",
       "</style>\n",
       "<table border=\"1\" class=\"dataframe\">\n",
       "  <thead>\n",
       "    <tr style=\"text-align: right;\">\n",
       "      <th></th>\n",
       "      <th>play</th>\n",
       "      <th>outlook_overcast</th>\n",
       "      <th>outlook_rain</th>\n",
       "      <th>outlook_sunny</th>\n",
       "      <th>temp_cool</th>\n",
       "      <th>temp_hot</th>\n",
       "      <th>temp_mild</th>\n",
       "      <th>humdity_high</th>\n",
       "      <th>humdity_normal</th>\n",
       "      <th>windy_strong</th>\n",
       "      <th>windy_weak</th>\n",
       "    </tr>\n",
       "  </thead>\n",
       "  <tbody>\n",
       "    <tr>\n",
       "      <th>0</th>\n",
       "      <td>no</td>\n",
       "      <td>0</td>\n",
       "      <td>0</td>\n",
       "      <td>1</td>\n",
       "      <td>0</td>\n",
       "      <td>1</td>\n",
       "      <td>0</td>\n",
       "      <td>1</td>\n",
       "      <td>0</td>\n",
       "      <td>1</td>\n",
       "      <td>0</td>\n",
       "    </tr>\n",
       "    <tr>\n",
       "      <th>1</th>\n",
       "      <td>no</td>\n",
       "      <td>0</td>\n",
       "      <td>0</td>\n",
       "      <td>1</td>\n",
       "      <td>0</td>\n",
       "      <td>1</td>\n",
       "      <td>0</td>\n",
       "      <td>1</td>\n",
       "      <td>0</td>\n",
       "      <td>0</td>\n",
       "      <td>1</td>\n",
       "    </tr>\n",
       "    <tr>\n",
       "      <th>2</th>\n",
       "      <td>yes</td>\n",
       "      <td>1</td>\n",
       "      <td>0</td>\n",
       "      <td>0</td>\n",
       "      <td>0</td>\n",
       "      <td>1</td>\n",
       "      <td>0</td>\n",
       "      <td>1</td>\n",
       "      <td>0</td>\n",
       "      <td>0</td>\n",
       "      <td>1</td>\n",
       "    </tr>\n",
       "    <tr>\n",
       "      <th>3</th>\n",
       "      <td>yes</td>\n",
       "      <td>0</td>\n",
       "      <td>1</td>\n",
       "      <td>0</td>\n",
       "      <td>0</td>\n",
       "      <td>0</td>\n",
       "      <td>1</td>\n",
       "      <td>1</td>\n",
       "      <td>0</td>\n",
       "      <td>0</td>\n",
       "      <td>1</td>\n",
       "    </tr>\n",
       "    <tr>\n",
       "      <th>4</th>\n",
       "      <td>yes</td>\n",
       "      <td>0</td>\n",
       "      <td>1</td>\n",
       "      <td>0</td>\n",
       "      <td>1</td>\n",
       "      <td>0</td>\n",
       "      <td>0</td>\n",
       "      <td>0</td>\n",
       "      <td>1</td>\n",
       "      <td>0</td>\n",
       "      <td>1</td>\n",
       "    </tr>\n",
       "  </tbody>\n",
       "</table>\n",
       "</div>"
      ],
      "text/plain": [
       "  play  outlook_overcast  outlook_rain  outlook_sunny  temp_cool  temp_hot  \\\n",
       "0   no                 0             0              1          0         1   \n",
       "1   no                 0             0              1          0         1   \n",
       "2  yes                 1             0              0          0         1   \n",
       "3  yes                 0             1              0          0         0   \n",
       "4  yes                 0             1              0          1         0   \n",
       "\n",
       "   temp_mild  humdity_high  humdity_normal  windy_strong  windy_weak  \n",
       "0          0             1               0             1           0  \n",
       "1          0             1               0             0           1  \n",
       "2          0             1               0             0           1  \n",
       "3          1             1               0             0           1  \n",
       "4          0             0               1             0           1  "
      ]
     },
     "execution_count": 4,
     "metadata": {},
     "output_type": "execute_result"
    }
   ],
   "source": [
    "import pandas as pd\n",
    "data_encoded = pd.get_dummies(data, columns=[\"outlook\",\"temp\",\"humidity\",\"windy\"], \\\n",
    "                             prefix=[\"outlook\",\"temp\",\"humdity\",\"windy\"])\n",
    "data_encoded.head()"
   ]
  },
  {
   "cell_type": "markdown",
   "metadata": {},
   "source": [
    "### References for More Complete List of One-hot Encoding Methodologies\n",
    "\n",
    "Moffitt, C. (2017) <a href=\"http://pbpython.com/categorical-encoding.html\">Guide to Encoding Categorical Values in Python</a>, Practical Business Python."
   ]
  },
  {
   "cell_type": "markdown",
   "metadata": {},
   "source": [
    "### Risk Values of Categorical Variables"
   ]
  },
  {
   "cell_type": "code",
   "execution_count": 5,
   "metadata": {},
   "outputs": [
    {
     "name": "stdout",
     "output_type": "stream",
     "text": [
      "play      no  yes\n",
      "outlook          \n",
      "overcast   0    4\n",
      "rain       2    3\n",
      "sunny      3    2\n",
      "play  no  yes\n",
      "temp         \n",
      "cool   1    3\n",
      "hot    2    2\n",
      "mild   2    4\n",
      "play      no  yes\n",
      "humidity         \n",
      "high       4    3\n",
      "normal     1    6\n",
      "play    no  yes\n",
      "windy          \n",
      "strong   3    3\n",
      "weak     2    6\n",
      "{'outlook': {'overcast': 2.564949357461537, 'rain': 0.4353180712578455, 'sunny': -0.23922968906583425}, 'temp': {'cool': 0.9873866535578852, 'hot': 0.11441035117774412, 'mild': 0.6778797084291569}, 'humidity': {'high': -0.17904823144898543, 'normal': 1.5881605139868153}, 'windy': {'strong': 0.0816780310142671, 'weak': 1.0360919316867758}}\n"
     ]
    }
   ],
   "source": [
    "import numpy as np\n",
    "General_Prob = (data.iloc[:,4] == \"yes\").sum()/float(data.shape[0])\n",
    "variable_risks = {}\n",
    "for variable in ['outlook', 'temp', 'humidity', 'windy']:\n",
    "    tab = pd.crosstab(data[variable], data.play) #Create a contingency table\n",
    "    print(tab)\n",
    "    num_levels = tab.shape[0]\n",
    "    level_risk = {}\n",
    "    levels = list(tab.index)\n",
    "    level_index = 0\n",
    "    for lev in levels:\n",
    "        if lev == True:\n",
    "            lev = 'True'\n",
    "        elif lev == False:\n",
    "            lev = 'False'\n",
    "        # general_prob is used as asmooth parameters when calculating risk values\n",
    "        level_risk[lev] = np.log((tab.iloc[level_index, 1] + General_Prob) / (tab.iloc[level_index, 0] + 1 - General_Prob))\n",
    "        level_index += 1\n",
    "    variable_risks[variable] = level_risk\n",
    "print(variable_risks)"
   ]
  },
  {
   "cell_type": "markdown",
   "metadata": {},
   "source": [
    "### Replace the Original Categorical Values with Risks"
   ]
  },
  {
   "cell_type": "code",
   "execution_count": 6,
   "metadata": {},
   "outputs": [
    {
     "data": {
      "text/html": [
       "<div>\n",
       "<style scoped>\n",
       "    .dataframe tbody tr th:only-of-type {\n",
       "        vertical-align: middle;\n",
       "    }\n",
       "\n",
       "    .dataframe tbody tr th {\n",
       "        vertical-align: top;\n",
       "    }\n",
       "\n",
       "    .dataframe thead th {\n",
       "        text-align: right;\n",
       "    }\n",
       "</style>\n",
       "<table border=\"1\" class=\"dataframe\">\n",
       "  <thead>\n",
       "    <tr style=\"text-align: right;\">\n",
       "      <th></th>\n",
       "      <th>outlook</th>\n",
       "      <th>temp</th>\n",
       "      <th>humidity</th>\n",
       "      <th>windy</th>\n",
       "      <th>play</th>\n",
       "    </tr>\n",
       "  </thead>\n",
       "  <tbody>\n",
       "    <tr>\n",
       "      <th>0</th>\n",
       "      <td>-0.23923</td>\n",
       "      <td>0.11441</td>\n",
       "      <td>-0.179048</td>\n",
       "      <td>0.081678</td>\n",
       "      <td>no</td>\n",
       "    </tr>\n",
       "    <tr>\n",
       "      <th>1</th>\n",
       "      <td>-0.23923</td>\n",
       "      <td>0.11441</td>\n",
       "      <td>-0.179048</td>\n",
       "      <td>1.03609</td>\n",
       "      <td>no</td>\n",
       "    </tr>\n",
       "    <tr>\n",
       "      <th>2</th>\n",
       "      <td>2.56495</td>\n",
       "      <td>0.11441</td>\n",
       "      <td>-0.179048</td>\n",
       "      <td>1.03609</td>\n",
       "      <td>yes</td>\n",
       "    </tr>\n",
       "    <tr>\n",
       "      <th>3</th>\n",
       "      <td>0.435318</td>\n",
       "      <td>0.67788</td>\n",
       "      <td>-0.179048</td>\n",
       "      <td>1.03609</td>\n",
       "      <td>yes</td>\n",
       "    </tr>\n",
       "    <tr>\n",
       "      <th>4</th>\n",
       "      <td>0.435318</td>\n",
       "      <td>0.987387</td>\n",
       "      <td>1.58816</td>\n",
       "      <td>1.03609</td>\n",
       "      <td>yes</td>\n",
       "    </tr>\n",
       "  </tbody>\n",
       "</table>\n",
       "</div>"
      ],
      "text/plain": [
       "    outlook      temp  humidity     windy play\n",
       "0  -0.23923   0.11441 -0.179048  0.081678   no\n",
       "1  -0.23923   0.11441 -0.179048   1.03609   no\n",
       "2   2.56495   0.11441 -0.179048   1.03609  yes\n",
       "3  0.435318   0.67788 -0.179048   1.03609  yes\n",
       "4  0.435318  0.987387   1.58816   1.03609  yes"
      ]
     },
     "execution_count": 6,
     "metadata": {},
     "output_type": "execute_result"
    }
   ],
   "source": [
    "data_risks = data.copy()\n",
    "# data_risks.windy = data_risks.windy.astype(float)\n",
    "num_obs = data.shape[0]\n",
    "for variable in ['outlook', 'temp', 'humidity', 'windy']:\n",
    "    for i in range(num_obs):\n",
    "        if data[variable][i] == True:\n",
    "            lev = 'True'\n",
    "        elif data[variable][i] == False:\n",
    "            lev = 'False'\n",
    "        else:\n",
    "            lev = data[variable][i]\n",
    "        data_risks[variable][i] = variable_risks[variable][lev]\n",
    "data_risks.head()"
   ]
  },
  {
   "cell_type": "markdown",
   "metadata": {},
   "source": [
    "## Section 2. Recency, Frequency, and Monetary (RFM)"
   ]
  },
  {
   "cell_type": "markdown",
   "metadata": {},
   "source": [
    "### Read Example Data"
   ]
  },
  {
   "cell_type": "code",
   "execution_count": 7,
   "metadata": {},
   "outputs": [
    {
     "data": {
      "text/html": [
       "<div>\n",
       "<style scoped>\n",
       "    .dataframe tbody tr th:only-of-type {\n",
       "        vertical-align: middle;\n",
       "    }\n",
       "\n",
       "    .dataframe tbody tr th {\n",
       "        vertical-align: top;\n",
       "    }\n",
       "\n",
       "    .dataframe thead th {\n",
       "        text-align: right;\n",
       "    }\n",
       "</style>\n",
       "<table border=\"1\" class=\"dataframe\">\n",
       "  <thead>\n",
       "    <tr style=\"text-align: right;\">\n",
       "      <th></th>\n",
       "      <th>UserId</th>\n",
       "      <th>Age</th>\n",
       "      <th>Address</th>\n",
       "      <th>Column 0</th>\n",
       "      <th>TransactionId</th>\n",
       "      <th>Timestamp</th>\n",
       "      <th>ItemId</th>\n",
       "      <th>Quantity</th>\n",
       "      <th>Value</th>\n",
       "    </tr>\n",
       "  </thead>\n",
       "  <tbody>\n",
       "    <tr>\n",
       "      <th>0</th>\n",
       "      <td>101981</td>\n",
       "      <td>F</td>\n",
       "      <td>E</td>\n",
       "      <td>2860</td>\n",
       "      <td>818463</td>\n",
       "      <td>11/1/2000 0:00</td>\n",
       "      <td>4.710000e+12</td>\n",
       "      <td>1</td>\n",
       "      <td>37</td>\n",
       "    </tr>\n",
       "    <tr>\n",
       "      <th>1</th>\n",
       "      <td>101981</td>\n",
       "      <td>F</td>\n",
       "      <td>E</td>\n",
       "      <td>2861</td>\n",
       "      <td>818464</td>\n",
       "      <td>11/1/2000 0:00</td>\n",
       "      <td>4.710000e+12</td>\n",
       "      <td>1</td>\n",
       "      <td>17</td>\n",
       "    </tr>\n",
       "    <tr>\n",
       "      <th>2</th>\n",
       "      <td>101981</td>\n",
       "      <td>F</td>\n",
       "      <td>E</td>\n",
       "      <td>2862</td>\n",
       "      <td>818465</td>\n",
       "      <td>11/1/2000 0:00</td>\n",
       "      <td>4.710000e+12</td>\n",
       "      <td>1</td>\n",
       "      <td>23</td>\n",
       "    </tr>\n",
       "    <tr>\n",
       "      <th>3</th>\n",
       "      <td>101981</td>\n",
       "      <td>F</td>\n",
       "      <td>E</td>\n",
       "      <td>2863</td>\n",
       "      <td>818466</td>\n",
       "      <td>11/1/2000 0:00</td>\n",
       "      <td>4.710000e+12</td>\n",
       "      <td>1</td>\n",
       "      <td>41</td>\n",
       "    </tr>\n",
       "    <tr>\n",
       "      <th>4</th>\n",
       "      <td>101981</td>\n",
       "      <td>F</td>\n",
       "      <td>E</td>\n",
       "      <td>2864</td>\n",
       "      <td>818467</td>\n",
       "      <td>11/1/2000 0:00</td>\n",
       "      <td>4.710000e+12</td>\n",
       "      <td>8</td>\n",
       "      <td>288</td>\n",
       "    </tr>\n",
       "  </tbody>\n",
       "</table>\n",
       "</div>"
      ],
      "text/plain": [
       "   UserId Age Address  Column 0  TransactionId       Timestamp        ItemId  \\\n",
       "0  101981   F       E      2860         818463  11/1/2000 0:00  4.710000e+12   \n",
       "1  101981   F       E      2861         818464  11/1/2000 0:00  4.710000e+12   \n",
       "2  101981   F       E      2862         818465  11/1/2000 0:00  4.710000e+12   \n",
       "3  101981   F       E      2863         818466  11/1/2000 0:00  4.710000e+12   \n",
       "4  101981   F       E      2864         818467  11/1/2000 0:00  4.710000e+12   \n",
       "\n",
       "   Quantity  Value  \n",
       "0         1     37  \n",
       "1         1     17  \n",
       "2         1     23  \n",
       "3         1     41  \n",
       "4         8    288  "
      ]
     },
     "execution_count": 7,
     "metadata": {},
     "output_type": "execute_result"
    }
   ],
   "source": [
    "import pandas as pd\n",
    "file = \"https://library.startlearninglabs.uw.edu/DATASCI420/Datasets/Retail_Churn_Data.csv\"\n",
    "data = pd.read_csv(file, sep=\",\", header=0)\n",
    "data.head()"
   ]
  },
  {
   "cell_type": "markdown",
   "metadata": {},
   "source": [
    "### Convert Timestamp to Datetime Object"
   ]
  },
  {
   "cell_type": "code",
   "execution_count": 8,
   "metadata": {},
   "outputs": [
    {
     "name": "stdout",
     "output_type": "stream",
     "text": [
      "Minimal Date=2000-11-01 00:00, Maximal Date=2001-02-28 00:00\n"
     ]
    }
   ],
   "source": [
    "import datetime as dt\n",
    "import pandas as pd\n",
    "import numpy as np\n",
    "from collections import OrderedDict\n",
    "\n",
    "data[\"Timestamp\"] = pd.to_datetime(data[\"Timestamp\"], format='%m/%d/%Y %H:%M')\n",
    "data.head()\n",
    "print(\"Minimal Date=%s, Maximal Date=%s\"%(min(data[\"Timestamp\"]).strftime(\"%Y-%m-%d %H:%M\"), \\\n",
    "                                          max(data[\"Timestamp\"]).strftime(\"%Y-%m-%d %H:%M\")))\n",
    "\n"
   ]
  },
  {
   "cell_type": "markdown",
   "metadata": {},
   "source": [
    "### Calculate RFM Features for Users at Each Checkpoint"
   ]
  },
  {
   "cell_type": "code",
   "execution_count": 9,
   "metadata": {},
   "outputs": [
    {
     "name": "stdout",
     "output_type": "stream",
     "text": [
      "There are 7153 unique users.\n",
      "There are 7132 unique users.\n"
     ]
    },
    {
     "data": {
      "text/html": [
       "<div>\n",
       "<style scoped>\n",
       "    .dataframe tbody tr th:only-of-type {\n",
       "        vertical-align: middle;\n",
       "    }\n",
       "\n",
       "    .dataframe tbody tr th {\n",
       "        vertical-align: top;\n",
       "    }\n",
       "\n",
       "    .dataframe thead th {\n",
       "        text-align: right;\n",
       "    }\n",
       "</style>\n",
       "<table border=\"1\" class=\"dataframe\">\n",
       "  <thead>\n",
       "    <tr style=\"text-align: right;\">\n",
       "      <th></th>\n",
       "      <th>UserID</th>\n",
       "      <th>Checkpoint</th>\n",
       "      <th>Recency</th>\n",
       "      <th>Frequency</th>\n",
       "      <th>Value</th>\n",
       "      <th>Quantity</th>\n",
       "    </tr>\n",
       "  </thead>\n",
       "  <tbody>\n",
       "    <tr>\n",
       "      <th>0</th>\n",
       "      <td>2162690</td>\n",
       "      <td>2001-01-09</td>\n",
       "      <td>37</td>\n",
       "      <td>0</td>\n",
       "      <td>0</td>\n",
       "      <td>0</td>\n",
       "    </tr>\n",
       "    <tr>\n",
       "      <th>1</th>\n",
       "      <td>425995</td>\n",
       "      <td>2001-01-09</td>\n",
       "      <td>10</td>\n",
       "      <td>0</td>\n",
       "      <td>0</td>\n",
       "      <td>0</td>\n",
       "    </tr>\n",
       "    <tr>\n",
       "      <th>2</th>\n",
       "      <td>1835021</td>\n",
       "      <td>2001-01-09</td>\n",
       "      <td>23</td>\n",
       "      <td>0</td>\n",
       "      <td>0</td>\n",
       "      <td>0</td>\n",
       "    </tr>\n",
       "    <tr>\n",
       "      <th>3</th>\n",
       "      <td>589840</td>\n",
       "      <td>2001-01-09</td>\n",
       "      <td>13</td>\n",
       "      <td>0</td>\n",
       "      <td>0</td>\n",
       "      <td>0</td>\n",
       "    </tr>\n",
       "    <tr>\n",
       "      <th>4</th>\n",
       "      <td>2162706</td>\n",
       "      <td>2001-01-09</td>\n",
       "      <td>34</td>\n",
       "      <td>0</td>\n",
       "      <td>0</td>\n",
       "      <td>0</td>\n",
       "    </tr>\n",
       "  </tbody>\n",
       "</table>\n",
       "</div>"
      ],
      "text/plain": [
       "    UserID Checkpoint  Recency  Frequency  Value  Quantity\n",
       "0  2162690 2001-01-09       37          0      0         0\n",
       "1   425995 2001-01-09       10          0      0         0\n",
       "2  1835021 2001-01-09       23          0      0         0\n",
       "3   589840 2001-01-09       13          0      0         0\n",
       "4  2162706 2001-01-09       34          0      0         0"
      ]
     },
     "execution_count": 9,
     "metadata": {},
     "output_type": "execute_result"
    }
   ],
   "source": [
    "Start_Date_Obj = dt.datetime.strptime(\"1/9/2001\", \"%m/%d/%Y\")\n",
    "End_Date_Obj = dt.datetime.strptime(\"1/10/2001\", \"%m/%d/%Y\")\n",
    "Time_Window = 60 #days. Only consider customers who have activities within the recent 60 days\n",
    "FM_Window = 7 #days for frequency and monetary\n",
    "\n",
    "check_point_date = Start_Date_Obj\n",
    "UserID = []\n",
    "Checkpoint = []\n",
    "Recency = []\n",
    "Frequency = []\n",
    "Monetary_Value = []\n",
    "Monetary_Quantity = []\n",
    "while check_point_date <= End_Date_Obj:\n",
    "    window_start = check_point_date - dt.timedelta(days = Time_Window)\n",
    "    mask = (data[\"Timestamp\"] >= window_start) & (data[\"Timestamp\"] < check_point_date)\n",
    "    # Get the data in [checkpoint-60days, checkpoint]\n",
    "    data_checkpoint = data.loc[mask]\n",
    "    # Get the ids of users who have activities in [checkpoint-60days, checkpoint]\n",
    "    unique_users = list(set(data_checkpoint[\"UserId\"]))\n",
    "    print(\"There are %d unique users.\"%(len(unique_users)))\n",
    "    FM_Window_Start = check_point_date - dt.timedelta(days = FM_Window)\n",
    "    for user in unique_users:\n",
    "        UserID.append(user)\n",
    "        Checkpoint.append(check_point_date)\n",
    "        mask = data_checkpoint[\"UserId\"] == user\n",
    "        data_checkpoint_user = data_checkpoint.loc[mask]\n",
    "        delta = check_point_date - max(data_checkpoint_user[\"Timestamp\"])\n",
    "        recency = delta.days #Recency, days between checkpoint and last transaction time\n",
    "        mask = data_checkpoint_user[\"Timestamp\"] >= FM_Window_Start\n",
    "        data_checkpoint_user_fm = data_checkpoint_user.loc[mask]\n",
    "        frequency = data_checkpoint_user_fm.shape[0]\n",
    "        value = np.sum(data_checkpoint_user_fm.iloc[:, 8]) #monetary values\n",
    "        quantity = np.sum(data_checkpoint_user_fm.iloc[:, 7])#monetary quantity\n",
    "        Recency.append(recency)\n",
    "        Frequency.append(frequency)\n",
    "        Monetary_Value.append(value)\n",
    "        Monetary_Quantity.append(quantity)\n",
    "    check_point_date = check_point_date + dt.timedelta(days = 1)\n",
    "# Consolidate all columns into a signle data frame\n",
    "RFM_Dict = OrderedDict([ ('UserID', UserID),\n",
    "          ('Checkpoint', Checkpoint),\n",
    "          ('Recency',  Recency),\n",
    "          ('Frequency', Frequency),\n",
    "          ('Value', Monetary_Value),\n",
    "          ('Quantity', Monetary_Quantity)] )\n",
    "RFM_Frame = pd.DataFrame.from_dict(RFM_Dict)\n",
    "RFM_Frame.head()\n"
   ]
  },
  {
   "cell_type": "markdown",
   "metadata": {},
   "source": [
    "## Section 3. Filter-based Selection"
   ]
  },
  {
   "cell_type": "markdown",
   "metadata": {},
   "source": [
    "### Mutual Information"
   ]
  },
  {
   "cell_type": "code",
   "execution_count": 10,
   "metadata": {},
   "outputs": [
    {
     "name": "stdout",
     "output_type": "stream",
     "text": [
      "Standard Deviation of Y=1.20\n"
     ]
    },
    {
     "data": {
      "image/png": "[encoded data removed]",
      "text/plain": [
       "<Figure size 432x288 with 1 Axes>"
      ]
     },
     "metadata": {
      "needs_background": "light"
     },
     "output_type": "display_data"
    },
    {
     "name": "stdout",
     "output_type": "stream",
     "text": [
      "Correlation between X and Y is 0.00\n",
      "Mutual information=1.74\n"
     ]
    }
   ],
   "source": [
    "import numpy as np\n",
    "\n",
    "X = np.linspace(start = -1, stop = 3, num=401, endpoint=True)\n",
    "Y = X**2 - 2*X + 1\n",
    "print(\"Standard Deviation of Y=%.2f\"%np.std(Y))\n",
    "\n",
    "noise_var = 0.1\n",
    "noise = np.random.normal(0, noise_var, len(X))\n",
    "Y += noise\n",
    "#Y = noise\n",
    "\n",
    "import matplotlib.pyplot as plt\n",
    "\n",
    "plt.plot(X, Y)\n",
    "plt.show()\n",
    "\n",
    "# Calculation Correlation\n",
    "corr = np.corrcoef(X, Y)[0, 1]\n",
    "print(\"Correlation between X and Y is %.2f\"%corr)\n",
    "# Calculate Mutual Information\n",
    "\n",
    "from sklearn.metrics import mutual_info_score\n",
    "\n",
    "def calc_MI(x, y, bins):\n",
    "    c_xy = np.histogram2d(x, y, bins)[0]\n",
    "#     print(c_xy)\n",
    "    mi = mutual_info_score(None, None, contingency=c_xy)\n",
    "    return mi\n",
    "\n",
    "mi = calc_MI(X, Y, 20)\n",
    "print(\"Mutual information=%.2f\"%mi)"
   ]
  },
  {
   "cell_type": "markdown",
   "metadata": {},
   "source": [
    "## Section 4. Stepwise and Embedded Methods"
   ]
  },
  {
   "cell_type": "markdown",
   "metadata": {},
   "source": [
    "### Stepwise Model Selection\n",
    "\n",
    "#### Backward model selection"
   ]
  },
  {
   "cell_type": "code",
   "execution_count": 13,
   "metadata": {
    "scrolled": false
   },
   "outputs": [
    {
     "name": "stdout",
     "output_type": "stream",
     "text": [
      "[[0.5488135  0.71518937 0.60276338 0.54488318 0.4236548  0.64589411\n",
      "  0.43758721 0.891773   0.96366276 0.38344152]\n",
      " [0.79172504 0.52889492 0.56804456 0.92559664 0.07103606 0.0871293\n",
      "  0.0202184  0.83261985 0.77815675 0.87001215]\n",
      " [0.97861834 0.79915856 0.46147936 0.78052918 0.11827443 0.63992102\n",
      "  0.14335329 0.94466892 0.52184832 0.41466194]\n",
      " [0.26455561 0.77423369 0.45615033 0.56843395 0.0187898  0.6176355\n",
      "  0.61209572 0.616934   0.94374808 0.6818203 ]\n",
      " [0.3595079  0.43703195 0.6976312  0.06022547 0.66676672 0.67063787\n",
      "  0.21038256 0.1289263  0.31542835 0.36371077]\n",
      " [0.57019677 0.43860151 0.98837384 0.10204481 0.20887676 0.16130952\n",
      "  0.65310833 0.2532916  0.46631077 0.24442559]\n",
      " [0.15896958 0.11037514 0.65632959 0.13818295 0.19658236 0.36872517\n",
      "  0.82099323 0.09710128 0.83794491 0.09609841]\n",
      " [0.97645947 0.4686512  0.97676109 0.60484552 0.73926358 0.03918779\n",
      "  0.28280696 0.12019656 0.2961402  0.11872772]\n",
      " [0.31798318 0.41426299 0.0641475  0.69247212 0.56660145 0.26538949\n",
      "  0.52324805 0.09394051 0.5759465  0.9292962 ]\n",
      " [0.31856895 0.66741038 0.13179786 0.7163272  0.28940609 0.18319136\n",
      "  0.58651293 0.02010755 0.82894003 0.00469548]]\n",
      "[ True  True  True  True  True False False False False False]\n",
      "[1 1 1 1 1 2 3 6 5 4]\n"
     ]
    },
    {
     "name": "stderr",
     "output_type": "stream",
     "text": [
      "C:\\Users\\zhuoy\\anaconda3\\lib\\site-packages\\sklearn\\utils\\validation.py:70: FutureWarning: Pass n_features_to_select=5 as keyword args. From version 0.25 passing these as positional arguments will result in an error\n",
      "  FutureWarning)\n"
     ]
    }
   ],
   "source": [
    "# Recursive Feature Elimination\n",
    "from sklearn.datasets import make_friedman1\n",
    "from sklearn.feature_selection import RFE #Recursive Feature Elimination\n",
    "from sklearn.linear_model import LinearRegression\n",
    "X, y = make_friedman1(n_samples=50, n_features=10, random_state=0)\n",
    "print(X[0:10,:]) # print out the first 10 rows\n",
    "estimator = LinearRegression()\n",
    "selector = RFE(estimator, 5, step=1)#select 5 features. Step=1 means each step only remove 1 variable from the model\n",
    "selector = selector.fit(X, y)\n",
    "print(selector.support_) # The mask of selected features.\n",
    "print(selector.ranking_) # selected features are ranked 1. The 6th is the one that is removed first,\n",
    "                         # 2nd is the one that is removed last"
   ]
  },
  {
   "cell_type": "markdown",
   "metadata": {},
   "source": [
    "### Install Machine Learning Extensions\n",
    "See <a href=\"http://rasbt.github.io/mlxtend/\">mlxtend's documentation</a>"
   ]
  },
  {
   "cell_type": "code",
   "execution_count": 14,
   "metadata": {},
   "outputs": [],
   "source": [
    "# Uncomment the following line to run\n",
    "# !pip install mlxtend"
   ]
  },
  {
   "cell_type": "markdown",
   "metadata": {},
   "source": [
    "#### Forward Feature Selection"
   ]
  },
  {
   "cell_type": "code",
   "execution_count": 15,
   "metadata": {
    "scrolled": false
   },
   "outputs": [
    {
     "name": "stdout",
     "output_type": "stream",
     "text": [
      "[[6.3200e-03 1.8000e+01 2.3100e+00 0.0000e+00 5.3800e-01 6.5750e+00\n",
      "  6.5200e+01 4.0900e+00 1.0000e+00 2.9600e+02 1.5300e+01 3.9690e+02\n",
      "  4.9800e+00]\n",
      " [2.7310e-02 0.0000e+00 7.0700e+00 0.0000e+00 4.6900e-01 6.4210e+00\n",
      "  7.8900e+01 4.9671e+00 2.0000e+00 2.4200e+02 1.7800e+01 3.9690e+02\n",
      "  9.1400e+00]\n",
      " [2.7290e-02 0.0000e+00 7.0700e+00 0.0000e+00 4.6900e-01 7.1850e+00\n",
      "  6.1100e+01 4.9671e+00 2.0000e+00 2.4200e+02 1.7800e+01 3.9283e+02\n",
      "  4.0300e+00]\n",
      " [3.2370e-02 0.0000e+00 2.1800e+00 0.0000e+00 4.5800e-01 6.9980e+00\n",
      "  4.5800e+01 6.0622e+00 3.0000e+00 2.2200e+02 1.8700e+01 3.9463e+02\n",
      "  2.9400e+00]\n",
      " [6.9050e-02 0.0000e+00 2.1800e+00 0.0000e+00 4.5800e-01 7.1470e+00\n",
      "  5.4200e+01 6.0622e+00 3.0000e+00 2.2200e+02 1.8700e+01 3.9690e+02\n",
      "  5.3300e+00]\n",
      " [2.9850e-02 0.0000e+00 2.1800e+00 0.0000e+00 4.5800e-01 6.4300e+00\n",
      "  5.8700e+01 6.0622e+00 3.0000e+00 2.2200e+02 1.8700e+01 3.9412e+02\n",
      "  5.2100e+00]\n",
      " [8.8290e-02 1.2500e+01 7.8700e+00 0.0000e+00 5.2400e-01 6.0120e+00\n",
      "  6.6600e+01 5.5605e+00 5.0000e+00 3.1100e+02 1.5200e+01 3.9560e+02\n",
      "  1.2430e+01]\n",
      " [1.4455e-01 1.2500e+01 7.8700e+00 0.0000e+00 5.2400e-01 6.1720e+00\n",
      "  9.6100e+01 5.9505e+00 5.0000e+00 3.1100e+02 1.5200e+01 3.9690e+02\n",
      "  1.9150e+01]\n",
      " [2.1124e-01 1.2500e+01 7.8700e+00 0.0000e+00 5.2400e-01 5.6310e+00\n",
      "  1.0000e+02 6.0821e+00 5.0000e+00 3.1100e+02 1.5200e+01 3.8663e+02\n",
      "  2.9930e+01]\n",
      " [1.7004e-01 1.2500e+01 7.8700e+00 0.0000e+00 5.2400e-01 6.0040e+00\n",
      "  8.5900e+01 6.5921e+00 5.0000e+00 3.1100e+02 1.5200e+01 3.8671e+02\n",
      "  1.7100e+01]]\n"
     ]
    },
    {
     "data": {
      "image/png": "[encoded data removed]",
      "text/plain": [
       "<Figure size 432x288 with 1 Axes>"
      ]
     },
     "metadata": {
      "needs_background": "light"
     },
     "output_type": "display_data"
    }
   ],
   "source": [
    "# Forward Stepwise Feature Selection\n",
    "from sklearn.linear_model import LinearRegression\n",
    "from sklearn.datasets import load_boston\n",
    "from mlxtend.feature_selection import SequentialFeatureSelector as SFS\n",
    "import matplotlib.pyplot as plt\n",
    "from mlxtend.plotting import plot_sequential_feature_selection as plot_sfs\n",
    "\n",
    "boston = load_boston()\n",
    "X, y = boston.data, boston.target\n",
    "\n",
    "print(X[0:10, :])\n",
    "lr = LinearRegression()\n",
    "\n",
    "sfs = SFS(lr, \n",
    "          k_features=13, # k_features has to be smaller or equal to the number of features. If equal to, it starts from\n",
    "                         # intercept to the full model\n",
    "          forward=True,  # forward\n",
    "          floating=False, \n",
    "          scoring='neg_mean_squared_error',\n",
    "          cv=10)\n",
    "\n",
    "sfs = sfs.fit(X, y)\n",
    "fig = plot_sfs(sfs.get_metric_dict(), kind='std_err')\n",
    "\n",
    "plt.title('Sequential Forward Selection (w. StdErr)')\n",
    "plt.grid()\n",
    "plt.show()"
   ]
  },
  {
   "cell_type": "markdown",
   "metadata": {},
   "source": [
    "### Get the Best Model"
   ]
  },
  {
   "cell_type": "code",
   "execution_count": null,
   "metadata": {},
   "outputs": [],
   "source": [
    "sfs.get_metric_dict()[8]"
   ]
  },
  {
   "cell_type": "markdown",
   "metadata": {},
   "source": [
    "### LASSO and Ridge Regression"
   ]
  },
  {
   "cell_type": "code",
   "execution_count": 16,
   "metadata": {},
   "outputs": [
    {
     "name": "stdout",
     "output_type": "stream",
     "text": [
      "[-0.0832894   0.04954355 -0.0052532   0.         -0.          2.49821246\n",
      "  0.00360438 -0.93660469  0.27745115 -0.01544219 -0.75875211  0.00946855\n",
      " -0.6562895 ]\n",
      "32.52086096257654\n"
     ]
    }
   ],
   "source": [
    "# LASSO\n",
    "from sklearn import linear_model\n",
    "\n",
    "alpha = 0.5 # Increasing alpha can shrink more variable coefficients to 0\n",
    "clf = linear_model.Lasso(alpha=alpha)\n",
    "clf.fit(X, y)\n",
    "\n",
    "print(clf.coef_)\n",
    "\n",
    "print(clf.intercept_)\n",
    "\n"
   ]
  },
  {
   "cell_type": "code",
   "execution_count": null,
   "metadata": {},
   "outputs": [],
   "source": [
    "# Ridge Regression\n",
    "from sklearn import linear_model\n",
    "alpha = 10 \n",
    "clf = linear_model.Ridge(alpha=alpha)\n",
    "clf.fit(X, y)\n",
    "\n",
    "print(clf.coef_)\n",
    "\n",
    "print(clf.intercept_)\n",
    "\n",
    "import numpy as np\n",
    "# Increasing alpha can compress the L2 norm of the coefficients to 0 (but not selecting variables)\n",
    "print(\"Sum of square of coefficients = %.2f\"%np.sum(clf.coef_**2)) "
   ]
  },
  {
   "cell_type": "markdown",
   "metadata": {},
   "source": [
    "<div id=\"reminder\" style=\"border-radius: 5px; background-color:#f5f5f5; padding: 15px 5px; \" >\n",
    "<p>For additional practice, please see the Workshop notebooks.</p>\n",
    "</div>"
   ]
  }
 ],
 "metadata": {
  "anaconda-cloud": {},
  "kernelspec": {
   "display_name": "Python 3",
   "language": "python",
   "name": "python3"
  },
  "language_info": {
   "codemirror_mode": {
    "name": "ipython",
    "version": 3
   },
   "file_extension": ".py",
   "mimetype": "text/x-python",
   "name": "python",
   "nbconvert_exporter": "python",
   "pygments_lexer": "ipython3",
   "version": "3.7.6"
  }
 },
 "nbformat": 4,
 "nbformat_minor": 1
}
